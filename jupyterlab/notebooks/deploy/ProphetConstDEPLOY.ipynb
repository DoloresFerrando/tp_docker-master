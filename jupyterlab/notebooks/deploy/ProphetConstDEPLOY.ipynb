{
 "cells": [
  {
   "cell_type": "markdown",
   "metadata": {},
   "source": [
    "Cargo todo"
   ]
  },
  {
   "cell_type": "code",
   "execution_count": 1,
   "metadata": {},
   "outputs": [],
   "source": [
    "import pandas as pd\n",
    "import urllib.parse\n",
    "import numpy as np\n",
    "import itertools\n",
    "%matplotlib inline\n",
    "import matplotlib.pyplot as plt\n",
    "import numpy as np\n",
    "import plotly.offline as pyoff\n",
    "import plotly.graph_objs as go\n",
    "from sklearn import preprocessing\n",
    "from prophet import Prophet\n",
    "#from prophet.plot import add_changepoints_to_plot\n",
    "#from prophet.diagnostics import cross_validation\n",
    "#from prophet.diagnostics import performance_metrics\n",
    "#from prophet.plot import plot_cross_validation_metric\n",
    "#from scipy.stats import boxcox\n",
    "#from scipy.special import inv_boxcox\n",
    "#pd.set_option('display.max_row', 1000)\n",
    "from sklearn.metrics import mean_absolute_percentage_error\n",
    "#from sklearn.metrics import mean_squared_error\n",
    "#from sklearn.metrics import mean_absolute_error\n",
    "#from sklearn.metrics import r2_score"
   ]
  },
  {
   "cell_type": "markdown",
   "metadata": {},
   "source": [
    "Cargo los datos"
   ]
  },
  {
   "cell_type": "code",
   "execution_count": null,
   "metadata": {},
   "outputs": [],
   "source": []
  },
  {
   "cell_type": "markdown",
   "metadata": {},
   "source": [
    "Traigo los datos de la api datos.gob.ar\n"
   ]
  },
  {
   "cell_type": "code",
   "execution_count": 2,
   "metadata": {},
   "outputs": [],
   "source": [
    "\n",
    "def get_api_call(ids, **kwargs):\n",
    "    API_BASE_URL = \"https://apis.datos.gob.ar/series/api/\"\n",
    "    kwargs[\"ids\"] = \",\".join(ids)\n",
    "    return \"{}{}?{}\".format(API_BASE_URL, \"series\", urllib.parse.urlencode(kwargs))\n",
    "df = pd.read_csv(get_api_call(\n",
    "    [\"455.1_VENTAS_PRETES_0_M_25_98\"],\n",
    "    format=\"csv\", start_date=2017\n",
    "))"
   ]
  },
  {
   "cell_type": "code",
   "execution_count": 3,
   "metadata": {},
   "outputs": [
    {
     "data": {
      "text/html": [
       "<div>\n",
       "<style scoped>\n",
       "    .dataframe tbody tr th:only-of-type {\n",
       "        vertical-align: middle;\n",
       "    }\n",
       "\n",
       "    .dataframe tbody tr th {\n",
       "        vertical-align: top;\n",
       "    }\n",
       "\n",
       "    .dataframe thead th {\n",
       "        text-align: right;\n",
       "    }\n",
       "</style>\n",
       "<table border=\"1\" class=\"dataframe\">\n",
       "  <thead>\n",
       "    <tr style=\"text-align: right;\">\n",
       "      <th></th>\n",
       "      <th>indice_tiempo</th>\n",
       "      <th>ventas_precios_constantes</th>\n",
       "    </tr>\n",
       "  </thead>\n",
       "  <tbody>\n",
       "    <tr>\n",
       "      <th>64</th>\n",
       "      <td>2022-05-01</td>\n",
       "      <td>23234.773774</td>\n",
       "    </tr>\n",
       "    <tr>\n",
       "      <th>65</th>\n",
       "      <td>2022-06-01</td>\n",
       "      <td>24144.358859</td>\n",
       "    </tr>\n",
       "    <tr>\n",
       "      <th>66</th>\n",
       "      <td>2022-07-01</td>\n",
       "      <td>26090.255578</td>\n",
       "    </tr>\n",
       "    <tr>\n",
       "      <th>67</th>\n",
       "      <td>2022-08-01</td>\n",
       "      <td>23930.705836</td>\n",
       "    </tr>\n",
       "    <tr>\n",
       "      <th>68</th>\n",
       "      <td>2022-09-01</td>\n",
       "      <td>23136.675584</td>\n",
       "    </tr>\n",
       "  </tbody>\n",
       "</table>\n",
       "</div>"
      ],
      "text/plain": [
       "   indice_tiempo  ventas_precios_constantes\n",
       "64    2022-05-01               23234.773774\n",
       "65    2022-06-01               24144.358859\n",
       "66    2022-07-01               26090.255578\n",
       "67    2022-08-01               23930.705836\n",
       "68    2022-09-01               23136.675584"
      ]
     },
     "execution_count": 3,
     "metadata": {},
     "output_type": "execute_result"
    }
   ],
   "source": [
    "df.tail(5)"
   ]
  },
  {
   "cell_type": "markdown",
   "metadata": {},
   "source": [
    "Para correr prophet: ponemos a la fecha en formato para Prophet y renombramos columnas"
   ]
  },
  {
   "cell_type": "code",
   "execution_count": 4,
   "metadata": {},
   "outputs": [],
   "source": [
    "# Convert Date to datetime\n",
    "df['indice_tiempo'] = pd.to_datetime(df['indice_tiempo'])\n"
   ]
  },
  {
   "cell_type": "code",
   "execution_count": 5,
   "metadata": {},
   "outputs": [],
   "source": [
    "df.columns = ['ds', 'y']\n",
    "#df.head(1)"
   ]
  },
  {
   "cell_type": "code",
   "execution_count": 6,
   "metadata": {},
   "outputs": [],
   "source": [
    "#df.set_index('ds').y.plot().figure"
   ]
  },
  {
   "cell_type": "markdown",
   "metadata": {},
   "source": [
    "aplicamos prophet m = Prophet(seasonality_mode='multiplicative').fit(serieScorr)"
   ]
  },
  {
   "cell_type": "code",
   "execution_count": 7,
   "metadata": {},
   "outputs": [
    {
     "name": "stderr",
     "output_type": "stream",
     "text": [
      "18:17:51 - cmdstanpy - INFO - Chain [1] start processing\n",
      "18:17:52 - cmdstanpy - INFO - Chain [1] done processing\n"
     ]
    }
   ],
   "source": [
    "m=Prophet(weekly_seasonality=True)\n",
    "fitted= m.fit(df)\n",
    "future = m.make_future_dataframe(periods=1, freq='MS')\n",
    "fcst = m.predict(future)\n",
    "#fig = m.plot(fcst)"
   ]
  },
  {
   "cell_type": "code",
   "execution_count": 8,
   "metadata": {},
   "outputs": [
    {
     "data": {
      "text/html": [
       "<div>\n",
       "<style scoped>\n",
       "    .dataframe tbody tr th:only-of-type {\n",
       "        vertical-align: middle;\n",
       "    }\n",
       "\n",
       "    .dataframe tbody tr th {\n",
       "        vertical-align: top;\n",
       "    }\n",
       "\n",
       "    .dataframe thead th {\n",
       "        text-align: right;\n",
       "    }\n",
       "</style>\n",
       "<table border=\"1\" class=\"dataframe\">\n",
       "  <thead>\n",
       "    <tr style=\"text-align: right;\">\n",
       "      <th></th>\n",
       "      <th>ds</th>\n",
       "      <th>yhat</th>\n",
       "      <th>yhat_lower</th>\n",
       "      <th>yhat_upper</th>\n",
       "    </tr>\n",
       "  </thead>\n",
       "  <tbody>\n",
       "    <tr>\n",
       "      <th>64</th>\n",
       "      <td>2022-05-01</td>\n",
       "      <td>23886.417854</td>\n",
       "      <td>23204.642151</td>\n",
       "      <td>24517.336676</td>\n",
       "    </tr>\n",
       "    <tr>\n",
       "      <th>65</th>\n",
       "      <td>2022-06-01</td>\n",
       "      <td>24359.546703</td>\n",
       "      <td>23724.094563</td>\n",
       "      <td>25024.160654</td>\n",
       "    </tr>\n",
       "    <tr>\n",
       "      <th>66</th>\n",
       "      <td>2022-07-01</td>\n",
       "      <td>25657.150524</td>\n",
       "      <td>24948.320803</td>\n",
       "      <td>26324.374907</td>\n",
       "    </tr>\n",
       "    <tr>\n",
       "      <th>67</th>\n",
       "      <td>2022-08-01</td>\n",
       "      <td>24339.961059</td>\n",
       "      <td>23644.816436</td>\n",
       "      <td>25037.172611</td>\n",
       "    </tr>\n",
       "    <tr>\n",
       "      <th>68</th>\n",
       "      <td>2022-09-01</td>\n",
       "      <td>23095.516419</td>\n",
       "      <td>22468.768735</td>\n",
       "      <td>23758.789257</td>\n",
       "    </tr>\n",
       "    <tr>\n",
       "      <th>69</th>\n",
       "      <td>2022-10-01</td>\n",
       "      <td>25709.417225</td>\n",
       "      <td>25011.627978</td>\n",
       "      <td>26404.161302</td>\n",
       "    </tr>\n",
       "  </tbody>\n",
       "</table>\n",
       "</div>"
      ],
      "text/plain": [
       "           ds          yhat    yhat_lower    yhat_upper\n",
       "64 2022-05-01  23886.417854  23204.642151  24517.336676\n",
       "65 2022-06-01  24359.546703  23724.094563  25024.160654\n",
       "66 2022-07-01  25657.150524  24948.320803  26324.374907\n",
       "67 2022-08-01  24339.961059  23644.816436  25037.172611\n",
       "68 2022-09-01  23095.516419  22468.768735  23758.789257\n",
       "69 2022-10-01  25709.417225  25011.627978  26404.161302"
      ]
     },
     "execution_count": 8,
     "metadata": {},
     "output_type": "execute_result"
    }
   ],
   "source": [
    "fcst[['ds', 'yhat', 'yhat_lower', 'yhat_upper']].tail(6)"
   ]
  },
  {
   "cell_type": "code",
   "execution_count": 9,
   "metadata": {},
   "outputs": [
    {
     "data": {
      "text/plain": [
       "0     27161.253020\n",
       "1     25150.827947\n",
       "2     28088.201303\n",
       "3     26720.664042\n",
       "4     25841.415651\n",
       "          ...     \n",
       "64    23886.417854\n",
       "65    24359.546703\n",
       "66    25657.150524\n",
       "67    24339.961059\n",
       "68    23095.516419\n",
       "Name: yhat, Length: 69, dtype: float64"
      ]
     },
     "execution_count": 9,
     "metadata": {},
     "output_type": "execute_result"
    }
   ],
   "source": [
    "pred1=fcst[:-1]\n",
    "pred=pred1['yhat']\n",
    "pred\n"
   ]
  },
  {
   "cell_type": "code",
   "execution_count": 10,
   "metadata": {},
   "outputs": [],
   "source": [
    "true=df['y']"
   ]
  },
  {
   "cell_type": "code",
   "execution_count": 11,
   "metadata": {},
   "outputs": [
    {
     "data": {
      "text/plain": [
       "0.01552925291549797"
      ]
     },
     "execution_count": 11,
     "metadata": {},
     "output_type": "execute_result"
    }
   ],
   "source": [
    "mean_absolute_percentage_error(true,pred)"
   ]
  },
  {
   "cell_type": "code",
   "execution_count": null,
   "metadata": {},
   "outputs": [],
   "source": []
  }
 ],
 "metadata": {
  "kernelspec": {
   "display_name": "Python 3 (ipykernel)",
   "language": "python",
   "name": "python3"
  },
  "language_info": {
   "codemirror_mode": {
    "name": "ipython",
    "version": 3
   },
   "file_extension": ".py",
   "mimetype": "text/x-python",
   "name": "python",
   "nbconvert_exporter": "python",
   "pygments_lexer": "ipython3",
   "version": "3.10.8"
  },
  "vscode": {
   "interpreter": {
    "hash": "b447c3d3ee0a715e0630b9238fbacfd0cd0f772073477ca5a67add6017d0f0c5"
   }
  }
 },
 "nbformat": 4,
 "nbformat_minor": 4
}
