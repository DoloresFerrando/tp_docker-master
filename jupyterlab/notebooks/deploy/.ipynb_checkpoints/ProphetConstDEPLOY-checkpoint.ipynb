{
 "cells": [
  {
   "cell_type": "markdown",
   "metadata": {},
   "source": [
    "Cargo todo"
   ]
  },
  {
   "cell_type": "code",
   "execution_count": 22,
   "metadata": {},
   "outputs": [
    {
     "name": "stderr",
     "output_type": "stream",
     "text": [
      "c:\\Users\\dolor\\miniconda3\\envs\\prophet39\\lib\\site-packages\\tqdm\\auto.py:22: TqdmWarning:\n",
      "\n",
      "IProgress not found. Please update jupyter and ipywidgets. See https://ipywidgets.readthedocs.io/en/stable/user_install.html\n",
      "\n"
     ]
    }
   ],
   "source": [
    "import pandas as pd\n",
    "import urllib.parse\n",
    "import numpy as np\n",
    "import itertools\n",
    "%matplotlib inline\n",
    "import matplotlib.pyplot as plt\n",
    "import numpy as np\n",
    "import plotly.offline as pyoff\n",
    "import plotly.graph_objs as go\n",
    "from sklearn import preprocessing\n",
    "from prophet import Prophet\n",
    "#from prophet.plot import add_changepoints_to_plot\n",
    "#from prophet.diagnostics import cross_validation\n",
    "#from prophet.diagnostics import performance_metrics\n",
    "#from prophet.plot import plot_cross_validation_metric\n",
    "#from scipy.stats import boxcox\n",
    "#from scipy.special import inv_boxcox\n",
    "#pd.set_option('display.max_row', 1000)\n",
    "from sklearn.metrics import mean_absolute_percentage_error\n",
    "#from sklearn.metrics import mean_squared_error\n",
    "#from sklearn.metrics import mean_absolute_error\n",
    "#from sklearn.metrics import r2_score"
   ]
  },
  {
   "cell_type": "markdown",
   "metadata": {},
   "source": [
    "Cargo los datos"
   ]
  },
  {
   "cell_type": "markdown",
   "metadata": {},
   "source": [
    "Traigo los datos de la api datos.gob.ar\n"
   ]
  },
  {
   "cell_type": "code",
   "execution_count": 11,
   "metadata": {},
   "outputs": [],
   "source": [
    "\n",
    "def get_api_call(ids, **kwargs):\n",
    "    API_BASE_URL = \"https://apis.datos.gob.ar/series/api/\"\n",
    "    kwargs[\"ids\"] = \",\".join(ids)\n",
    "    return \"{}{}?{}\".format(API_BASE_URL, \"series\", urllib.parse.urlencode(kwargs))\n",
    "df = pd.read_csv(get_api_call(\n",
    "    [\"455.1_VENTAS_PRETES_0_M_25_98\"],\n",
    "    format=\"csv\", start_date=2017\n",
    "))"
   ]
  },
  {
   "cell_type": "code",
   "execution_count": 12,
   "metadata": {},
   "outputs": [
    {
     "data": {
      "text/html": [
       "<div>\n",
       "<style scoped>\n",
       "    .dataframe tbody tr th:only-of-type {\n",
       "        vertical-align: middle;\n",
       "    }\n",
       "\n",
       "    .dataframe tbody tr th {\n",
       "        vertical-align: top;\n",
       "    }\n",
       "\n",
       "    .dataframe thead th {\n",
       "        text-align: right;\n",
       "    }\n",
       "</style>\n",
       "<table border=\"1\" class=\"dataframe\">\n",
       "  <thead>\n",
       "    <tr style=\"text-align: right;\">\n",
       "      <th></th>\n",
       "      <th>indice_tiempo</th>\n",
       "      <th>ventas_precios_constantes</th>\n",
       "    </tr>\n",
       "  </thead>\n",
       "  <tbody>\n",
       "    <tr>\n",
       "      <th>64</th>\n",
       "      <td>2022-05-01</td>\n",
       "      <td>23234.773774</td>\n",
       "    </tr>\n",
       "    <tr>\n",
       "      <th>65</th>\n",
       "      <td>2022-06-01</td>\n",
       "      <td>24144.358859</td>\n",
       "    </tr>\n",
       "    <tr>\n",
       "      <th>66</th>\n",
       "      <td>2022-07-01</td>\n",
       "      <td>26090.255578</td>\n",
       "    </tr>\n",
       "    <tr>\n",
       "      <th>67</th>\n",
       "      <td>2022-08-01</td>\n",
       "      <td>23930.705836</td>\n",
       "    </tr>\n",
       "    <tr>\n",
       "      <th>68</th>\n",
       "      <td>2022-09-01</td>\n",
       "      <td>23136.675584</td>\n",
       "    </tr>\n",
       "  </tbody>\n",
       "</table>\n",
       "</div>"
      ],
      "text/plain": [
       "   indice_tiempo  ventas_precios_constantes\n",
       "64    2022-05-01               23234.773774\n",
       "65    2022-06-01               24144.358859\n",
       "66    2022-07-01               26090.255578\n",
       "67    2022-08-01               23930.705836\n",
       "68    2022-09-01               23136.675584"
      ]
     },
     "execution_count": 12,
     "metadata": {},
     "output_type": "execute_result"
    }
   ],
   "source": [
    "df.tail(5)"
   ]
  },
  {
   "cell_type": "markdown",
   "metadata": {},
   "source": [
    "Para correr prophet: ponemos a la fecha en formato para Prophet y renombramos columnas"
   ]
  },
  {
   "cell_type": "code",
   "execution_count": 13,
   "metadata": {},
   "outputs": [],
   "source": [
    "# Convert Date to datetime\n",
    "df['indice_tiempo'] = pd.to_datetime(df['indice_tiempo'])\n"
   ]
  },
  {
   "cell_type": "code",
   "execution_count": 18,
   "metadata": {},
   "outputs": [],
   "source": [
    "df.columns = ['ds', 'y']\n",
    "#df.head(1)"
   ]
  },
  {
   "cell_type": "code",
   "execution_count": 20,
   "metadata": {},
   "outputs": [],
   "source": [
    "#df.set_index('ds').y.plot().figure"
   ]
  },
  {
   "cell_type": "markdown",
   "metadata": {},
   "source": [
    "aplicamos prophet m = Prophet(seasonality_mode='multiplicative').fit(serieScorr)"
   ]
  },
  {
   "cell_type": "code",
   "execution_count": 36,
   "metadata": {},
   "outputs": [
    {
     "name": "stderr",
     "output_type": "stream",
     "text": [
      "19:11:54 - cmdstanpy - INFO - Chain [1] start processing\n",
      "19:11:55 - cmdstanpy - INFO - Chain [1] done processing\n"
     ]
    }
   ],
   "source": [
    "m=Prophet(weekly_seasonality=True)\n",
    "fitted= m.fit(df)\n",
    "future = m.make_future_dataframe(periods=1, freq='MS')\n",
    "fcst = m.predict(future)\n",
    "#fig = m.plot(fcst)"
   ]
  },
  {
   "cell_type": "code",
   "execution_count": 38,
   "metadata": {},
   "outputs": [
    {
     "data": {
      "text/html": [
       "<div>\n",
       "<style scoped>\n",
       "    .dataframe tbody tr th:only-of-type {\n",
       "        vertical-align: middle;\n",
       "    }\n",
       "\n",
       "    .dataframe tbody tr th {\n",
       "        vertical-align: top;\n",
       "    }\n",
       "\n",
       "    .dataframe thead th {\n",
       "        text-align: right;\n",
       "    }\n",
       "</style>\n",
       "<table border=\"1\" class=\"dataframe\">\n",
       "  <thead>\n",
       "    <tr style=\"text-align: right;\">\n",
       "      <th></th>\n",
       "      <th>ds</th>\n",
       "      <th>yhat</th>\n",
       "      <th>yhat_lower</th>\n",
       "      <th>yhat_upper</th>\n",
       "    </tr>\n",
       "  </thead>\n",
       "  <tbody>\n",
       "    <tr>\n",
       "      <th>64</th>\n",
       "      <td>2022-05-01</td>\n",
       "      <td>23886.417851</td>\n",
       "      <td>23198.182558</td>\n",
       "      <td>24543.791762</td>\n",
       "    </tr>\n",
       "    <tr>\n",
       "      <th>65</th>\n",
       "      <td>2022-06-01</td>\n",
       "      <td>24359.546700</td>\n",
       "      <td>23693.515157</td>\n",
       "      <td>25037.691066</td>\n",
       "    </tr>\n",
       "    <tr>\n",
       "      <th>66</th>\n",
       "      <td>2022-07-01</td>\n",
       "      <td>25657.150521</td>\n",
       "      <td>24970.149189</td>\n",
       "      <td>26295.481402</td>\n",
       "    </tr>\n",
       "    <tr>\n",
       "      <th>67</th>\n",
       "      <td>2022-08-01</td>\n",
       "      <td>24339.961056</td>\n",
       "      <td>23658.861847</td>\n",
       "      <td>25006.277275</td>\n",
       "    </tr>\n",
       "    <tr>\n",
       "      <th>68</th>\n",
       "      <td>2022-09-01</td>\n",
       "      <td>23095.516416</td>\n",
       "      <td>22449.974795</td>\n",
       "      <td>23802.129381</td>\n",
       "    </tr>\n",
       "    <tr>\n",
       "      <th>69</th>\n",
       "      <td>2022-10-01</td>\n",
       "      <td>25709.417222</td>\n",
       "      <td>25068.821325</td>\n",
       "      <td>26452.863621</td>\n",
       "    </tr>\n",
       "  </tbody>\n",
       "</table>\n",
       "</div>"
      ],
      "text/plain": [
       "           ds          yhat    yhat_lower    yhat_upper\n",
       "64 2022-05-01  23886.417851  23198.182558  24543.791762\n",
       "65 2022-06-01  24359.546700  23693.515157  25037.691066\n",
       "66 2022-07-01  25657.150521  24970.149189  26295.481402\n",
       "67 2022-08-01  24339.961056  23658.861847  25006.277275\n",
       "68 2022-09-01  23095.516416  22449.974795  23802.129381\n",
       "69 2022-10-01  25709.417222  25068.821325  26452.863621"
      ]
     },
     "execution_count": 38,
     "metadata": {},
     "output_type": "execute_result"
    }
   ],
   "source": [
    "fcst[['ds', 'yhat', 'yhat_lower', 'yhat_upper']].tail(6)"
   ]
  },
  {
   "cell_type": "code",
   "execution_count": 59,
   "metadata": {},
   "outputs": [
    {
     "data": {
      "text/plain": [
       "0     27161.253020\n",
       "1     25150.827947\n",
       "2     28088.201303\n",
       "3     26720.664042\n",
       "4     25841.415651\n",
       "5     26926.033693\n",
       "6     27966.820278\n",
       "7     26814.685470\n",
       "8     26108.046847\n",
       "9     27774.291012\n",
       "10    27661.722005\n",
       "11    33988.958573\n",
       "12    26806.709434\n",
       "13    25890.854642\n",
       "14    27814.973985\n",
       "15    26495.796394\n",
       "16    25610.175837\n",
       "17    26543.557222\n",
       "18    26666.017864\n",
       "19    25803.657795\n",
       "20    24189.597030\n",
       "21    25332.710737\n",
       "22    25347.050125\n",
       "23    31139.824249\n",
       "24    24414.158779\n",
       "25    23774.637680\n",
       "26    24890.952166\n",
       "27    23184.589444\n",
       "28    22888.372000\n",
       "29    23904.314526\n",
       "30    23866.687408\n",
       "31    24248.837382\n",
       "32    22238.526909\n",
       "33    24429.226501\n",
       "34    24590.520240\n",
       "35    29847.825882\n",
       "36    23811.562689\n",
       "37    23667.860590\n",
       "38    25390.942954\n",
       "39    22887.629959\n",
       "40    23620.160813\n",
       "41    23251.570413\n",
       "42    24257.978375\n",
       "43    23514.502045\n",
       "44    22265.292332\n",
       "45    24121.625777\n",
       "46    24627.588270\n",
       "47    30290.199223\n",
       "48    24463.348916\n",
       "49    21709.149285\n",
       "50    24664.217896\n",
       "51    23377.352375\n",
       "52    23689.267483\n",
       "53    23925.753802\n",
       "54    24681.020466\n",
       "55    24142.843212\n",
       "56    22687.157255\n",
       "57    25248.920998\n",
       "58    24392.784630\n",
       "59    30625.987021\n",
       "60    24810.111528\n",
       "61    23046.429481\n",
       "62    25223.186016\n",
       "63    24581.519960\n",
       "64    23886.417851\n",
       "65    24359.546700\n",
       "66    25657.150521\n",
       "67    24339.961056\n",
       "68    23095.516416\n",
       "Name: yhat, dtype: float64"
      ]
     },
     "execution_count": 59,
     "metadata": {},
     "output_type": "execute_result"
    }
   ],
   "source": [
    "pred1=fcst[:-1]\n",
    "pred=pred1['yhat']\n",
    "pred\n"
   ]
  },
  {
   "cell_type": "code",
   "execution_count": 60,
   "metadata": {},
   "outputs": [],
   "source": [
    "true=df['y']"
   ]
  },
  {
   "cell_type": "code",
   "execution_count": 61,
   "metadata": {},
   "outputs": [
    {
     "data": {
      "text/plain": [
       "0.015529252908860673"
      ]
     },
     "execution_count": 61,
     "metadata": {},
     "output_type": "execute_result"
    }
   ],
   "source": [
    "mean_absolute_percentage_error(true,pred)"
   ]
  }
 ],
 "metadata": {
  "kernelspec": {
   "display_name": "Python 3.9.13 ('prophet39')",
   "language": "python",
   "name": "python3"
  },
  "language_info": {
   "codemirror_mode": {
    "name": "ipython",
    "version": 3
   },
   "file_extension": ".py",
   "mimetype": "text/x-python",
   "name": "python",
   "nbconvert_exporter": "python",
   "pygments_lexer": "ipython3",
   "version": "3.9.13"
  },
  "orig_nbformat": 4,
  "vscode": {
   "interpreter": {
    "hash": "b447c3d3ee0a715e0630b9238fbacfd0cd0f772073477ca5a67add6017d0f0c5"
   }
  }
 },
 "nbformat": 4,
 "nbformat_minor": 2
}
