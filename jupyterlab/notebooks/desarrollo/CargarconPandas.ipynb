{
 "cells": [
  {
   "cell_type": "code",
   "execution_count": 1,
   "metadata": {},
   "outputs": [],
   "source": [
    "import pandas as pd\n",
    "import urllib.parse\n",
    "def get_api_call(ids, **kwargs):\n",
    "    API_BASE_URL = \"https://apis.datos.gob.ar/series/api/\"\n",
    "    kwargs[\"ids\"] = \",\".join(ids)\n",
    "    return \"{}{}?{}\".format(API_BASE_URL, \"series\", urllib.parse.urlencode(kwargs))"
   ]
  },
  {
   "cell_type": "markdown",
   "metadata": {},
   "source": [
    "Cargo la serie y le agrego la histórica / por ahora solo a precios corrientes"
   ]
  },
  {
   "cell_type": "code",
   "execution_count": 15,
   "metadata": {},
   "outputs": [],
   "source": [
    "df = pd.read_csv(get_api_call(\n",
    "    [\"455.1_VENTAS_PRETES_0_M_25_98\"],\n",
    "    format=\"csv\", start_date=2017\n",
    "))\n",
    "dfc = pd.read_csv(get_api_call(\n",
    "    [\"455.1_VENTAS_PRETES_0_M_25_30\"],\n",
    "    format=\"csv\", start_date=2017\n",
    "))\n"
   ]
  },
  {
   "cell_type": "code",
   "execution_count": 17,
   "metadata": {},
   "outputs": [
    {
     "name": "stdout",
     "output_type": "stream",
     "text": [
      "   indice_tiempo  ventas_precios_constantes\n",
      "0     2017-01-01               27477.307666\n",
      "1     2017-02-01               25223.428860\n",
      "2     2017-03-01               26334.263640\n",
      "3     2017-04-01               27045.884463\n",
      "4     2017-05-01               25631.863992\n",
      "..           ...                        ...\n",
      "62    2022-03-01               24612.901369\n",
      "63    2022-04-01               24141.199035\n",
      "64    2022-05-01               23235.096273\n",
      "65    2022-06-01               24144.358859\n",
      "66    2022-07-01               26090.180313\n",
      "\n",
      "[67 rows x 2 columns]\n"
     ]
    }
   ],
   "source": [
    "print(df)"
   ]
  },
  {
   "cell_type": "code",
   "execution_count": 18,
   "metadata": {},
   "outputs": [
    {
     "name": "stdout",
     "output_type": "stream",
     "text": [
      "   indice_tiempo  ventas_precios_corrientes\n",
      "0     2017-01-01               27858.872083\n",
      "1     2017-02-01               25994.200168\n",
      "2     2017-03-01               27780.006522\n",
      "3     2017-04-01               29134.272221\n",
      "4     2017-05-01               27969.004677\n",
      "..           ...                        ...\n",
      "62    2022-03-01              168982.502279\n",
      "63    2022-04-01              177148.082820\n",
      "64    2022-05-01              179641.568733\n",
      "65    2022-06-01              196114.524817\n",
      "66    2022-07-01              228215.344731\n",
      "\n",
      "[67 rows x 2 columns]\n"
     ]
    }
   ],
   "source": [
    "print(dfc)"
   ]
  },
  {
   "cell_type": "markdown",
   "metadata": {},
   "source": [
    "Concateno la serie historica de precios corrientes"
   ]
  },
  {
   "cell_type": "code",
   "execution_count": 22,
   "metadata": {},
   "outputs": [
    {
     "name": "stdout",
     "output_type": "stream",
     "text": [
      "   indice_tiempo  ventas_precios_corrientes\n",
      "0     1996-01-01                 998.770000\n",
      "1     1996-02-01                1022.710000\n",
      "2     1996-03-01                1149.270000\n",
      "3     1996-04-01                1077.440000\n",
      "4     1996-05-01                1050.080000\n",
      "..           ...                        ...\n",
      "62    2022-03-01              168982.502279\n",
      "63    2022-04-01              177148.082820\n",
      "64    2022-05-01              179641.568733\n",
      "65    2022-06-01              196114.524817\n",
      "66    2022-07-01              228215.344731\n",
      "\n",
      "[319 rows x 2 columns]\n"
     ]
    }
   ],
   "source": [
    "serieSHistcorr = pd.read_csv('CorrHist.csv', delimiter=',')\n",
    "\n",
    "serieScorr=pd.concat([serieSHistcorr,dfc])\n",
    "print(serieScorr)"
   ]
  },
  {
   "cell_type": "markdown",
   "metadata": {},
   "source": [
    "Lo guardo en un csv para análisis posterior"
   ]
  },
  {
   "cell_type": "code",
   "execution_count": 14,
   "metadata": {},
   "outputs": [],
   "source": [
    "df.to_csv(\"serieSconst.csv\",index=False)\n",
    "serieScorr.to_csv(\"serieScorr.csv\",index=False)"
   ]
  }
 ],
 "metadata": {
  "kernelspec": {
   "display_name": "Python 3.6.13 ('mne3')",
   "language": "python",
   "name": "python3"
  },
  "language_info": {
   "codemirror_mode": {
    "name": "ipython",
    "version": 3
   },
   "file_extension": ".py",
   "mimetype": "text/x-python",
   "name": "python",
   "nbconvert_exporter": "python",
   "pygments_lexer": "ipython3",
   "version": "3.6.13"
  },
  "orig_nbformat": 4,
  "vscode": {
   "interpreter": {
    "hash": "59c8c3d4489fbe6c1c06c0da5c4d3b293e5a0943bafa3f28ed805c180e8c2051"
   }
  }
 },
 "nbformat": 4,
 "nbformat_minor": 2
}
